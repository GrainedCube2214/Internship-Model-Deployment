{
 "cells": [
  {
   "cell_type": "code",
   "execution_count": 2,
   "metadata": {},
   "outputs": [],
   "source": [
    "import os\n",
    "f = open('filecontents.txt', 'w')\n",
    "#get all html, css, js and py files\n",
    "fs = []\n",
    "for root, dirs, files in os.walk(\".\"):\n",
    "    for file in files:\n",
    "        if file.endswith(\".html\") or file.endswith(\".css\") or file.endswith(\".js\") or file.endswith(\".py\"):\n",
    "             fs.append(os.path.join(root, file))\n",
    "\n",
    "#Write all the file contents to filecontents.txt\n",
    "for f1 in fs:\n",
    "    f.write(f1)\n",
    "    f.write('\\n')\n",
    "    f1 = open(f1, 'r')\n",
    "    f.write(f1.read())\n",
    "    f.write('\\n')\n",
    "    f1.close()\n",
    "f.close()"
   ]
  }
 ],
 "metadata": {
  "kernelspec": {
   "display_name": "Python 3",
   "language": "python",
   "name": "python3"
  },
  "language_info": {
   "codemirror_mode": {
    "name": "ipython",
    "version": 3
   },
   "file_extension": ".py",
   "mimetype": "text/x-python",
   "name": "python",
   "nbconvert_exporter": "python",
   "pygments_lexer": "ipython3",
   "version": "3.9.5"
  }
 },
 "nbformat": 4,
 "nbformat_minor": 2
}
